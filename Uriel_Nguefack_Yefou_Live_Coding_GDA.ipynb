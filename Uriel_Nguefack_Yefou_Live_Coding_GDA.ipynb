{
  "cells": [
    {
      "cell_type": "markdown",
      "metadata": {
        "id": "g17Z46tmw2oZ"
      },
      "source": [
        "# GDA Implementation.\n",
        "\n",
        "Implement the Gaussian Discriminant Analysis (GDA) learning algorithm following the steps as discussed in class.\n",
        "\n",
        "INSTRUCTION: Rename your notebook as: <br>\n",
        "`firstName_LastName_Live_coding_GDA.ipynb`.\n",
        "\n",
        "Notes: \n",
        "* Do not use any built-in functions to complete a task;\n",
        "* Do not import additional libraries."
      ]
    },
    {
      "cell_type": "code",
      "execution_count": 138,
      "metadata": {
        "id": "aT5nlL-QTKwv"
      },
      "outputs": [],
      "source": [
        "import numpy as np\n",
        "import matplotlib.pyplot as plt\n",
        "from sklearn.datasets import make_classification"
      ]
    },
    {
      "cell_type": "code",
      "execution_count": 139,
      "metadata": {
        "colab": {
          "base_uri": "https://localhost:8080/"
        },
        "id": "_-lL4Yq9Tbzn",
        "outputId": "30937363-7f7e-4360-e123-b4cdb1ebe441"
      },
      "outputs": [
        {
          "name": "stdout",
          "output_type": "stream",
          "text": [
            "(1000, 3) (1000,)\n"
          ]
        }
      ],
      "source": [
        "# Generate data\n",
        "def generate_data():\n",
        "  x, y = make_classification(n_samples= 1000, n_features=3, n_redundant=0, \n",
        "                           n_informative=3, random_state=1, \n",
        "                           n_clusters_per_class=1)\n",
        "  \n",
        "  return x,y\n",
        "\n",
        "x,y= generate_data() # get data\n",
        "print(x.shape, y.shape)"
      ]
    },
    {
      "cell_type": "code",
      "execution_count": 140,
      "metadata": {
        "id": "EUgiWLDhUAAK"
      },
      "outputs": [],
      "source": [
        "def split_data(x,y, train_size= 0.8):\n",
        "    # shuffle the data to randomize the train/test split\n",
        "    m, d = x.shape\n",
        "    indices = np.random.permutation(m)\n",
        "    x = x[indices]\n",
        "    y = y[indices]\n",
        "    stop = int(m*train_size)\n",
        "    x_train, y_train = x[:stop], y[:stop]\n",
        "    x_test, y_test = x[stop:], y[stop:]\n",
        "    return x_train, x_test, y_train, y_test\n",
        "\n"
      ]
    },
    {
      "cell_type": "code",
      "execution_count": 141,
      "metadata": {
        "colab": {
          "base_uri": "https://localhost:8080/"
        },
        "id": "Cr2Akm_A_FcJ",
        "outputId": "2b8f984d-f896-429f-8097-6fa9cba2d7dc"
      },
      "outputs": [
        {
          "name": "stdout",
          "output_type": "stream",
          "text": [
            "(800, 3) (800,) (200, 3) (200,)\n"
          ]
        }
      ],
      "source": [
        "X_train, X_test, y_train, y_test= split_data(x,y, train_size= 0.8) # split your data into x_train, x_test, y_train, y_test\n",
        "print(X_train.shape, y_train.shape, X_test.shape, y_test.shape)"
      ]
    },
    {
      "cell_type": "code",
      "execution_count": 142,
      "metadata": {
        "id": "FrJ7GfXBHNxD"
      },
      "outputs": [],
      "source": [
        "def covariance(x, mu):\n",
        "\n",
        "  # Easy way: cov= np.cov(x, rowvar=0) but do not use it. One can use it to assess his/her result.\n",
        "  m, d = x.shape\n",
        "  #mu = mu.reshape(1,-1)\n",
        "  cov = (1/(m-1))*((x-mu).T@(x-mu))\n",
        "  return cov"
      ]
    },
    {
      "cell_type": "code",
      "execution_count": 143,
      "metadata": {},
      "outputs": [
        {
          "data": {
            "text/plain": [
              "(3, 3)"
            ]
          },
          "execution_count": 143,
          "metadata": {},
          "output_type": "execute_result"
        }
      ],
      "source": [
        "j = covariance(X_train, X_train.mean(axis = 0))\n",
        "j.shape"
      ]
    },
    {
      "cell_type": "code",
      "execution_count": 144,
      "metadata": {},
      "outputs": [
        {
          "data": {
            "text/plain": [
              "(3,)"
            ]
          },
          "execution_count": 144,
          "metadata": {},
          "output_type": "execute_result"
        }
      ],
      "source": [
        "X_train.mean(axis = 0).shape"
      ]
    },
    {
      "cell_type": "code",
      "execution_count": 145,
      "metadata": {},
      "outputs": [
        {
          "data": {
            "text/plain": [
              "array([[1.85082943, 0.05021373, 1.00294395],\n",
              "       [0.05021373, 1.02387256, 0.07855139],\n",
              "       [1.00294395, 0.07855139, 1.76986381]])"
            ]
          },
          "execution_count": 145,
          "metadata": {},
          "output_type": "execute_result"
        }
      ],
      "source": [
        "j"
      ]
    },
    {
      "cell_type": "code",
      "execution_count": 146,
      "metadata": {},
      "outputs": [
        {
          "data": {
            "text/plain": [
              "(3, 3)"
            ]
          },
          "execution_count": 146,
          "metadata": {},
          "output_type": "execute_result"
        }
      ],
      "source": [
        "l = np.cov(X_train, rowvar = False)\n",
        "l.shape"
      ]
    },
    {
      "cell_type": "code",
      "execution_count": 147,
      "metadata": {},
      "outputs": [
        {
          "data": {
            "text/plain": [
              "array([[1.85082943, 0.05021373, 1.00294395],\n",
              "       [0.05021373, 1.02387256, 0.07855139],\n",
              "       [1.00294395, 0.07855139, 1.76986381]])"
            ]
          },
          "execution_count": 147,
          "metadata": {},
          "output_type": "execute_result"
        }
      ],
      "source": [
        "l"
      ]
    },
    {
      "cell_type": "code",
      "execution_count": null,
      "metadata": {},
      "outputs": [],
      "source": []
    },
    {
      "cell_type": "code",
      "execution_count": 148,
      "metadata": {},
      "outputs": [
        {
          "data": {
            "text/plain": [
              "2"
            ]
          },
          "execution_count": 148,
          "metadata": {},
          "output_type": "execute_result"
        }
      ],
      "source": [
        "k=len(np.unique(y_train, return_counts=False))\n",
        "k"
      ]
    },
    {
      "cell_type": "code",
      "execution_count": 149,
      "metadata": {},
      "outputs": [],
      "source": [
        "        # cov = np.zeros(shape=(X.shape[1], X.shape[1]))\n",
        "        # for i, y_class in enumerate(np.unique(y)):\n",
        "        #     X_class_members = X[y == y_class]\n",
        "        #     cov += (X_class_members -\n",
        "        #             self.means_[i]).T @ (X_class_members - self.means_[i])\n",
        "\n",
        "        # cov /= X.shape[0]\n",
        "        # return cov"
      ]
    },
    {
      "cell_type": "code",
      "execution_count": 282,
      "metadata": {
        "id": "1ocKLDAfceF0"
      },
      "outputs": [],
      "source": [
        "class GDA:\n",
        "  def __init__(self):\n",
        "    ## set mu, phi and sigma to None\n",
        "    self.phi = None\n",
        "    self.mu = None\n",
        "    self.sigma = None\n",
        "    \n",
        "  def fit(self,x,y):\n",
        "    k=len(np.unique(y, return_counts=False)) # Number of class.\n",
        "    d=x.shape[1]  # input dim\n",
        "    m= x.shape[0] # Number of examples.\n",
        "    \n",
        "    ## Initialize mu, phi and sigma\n",
        "    self.mu= np.zeros((k, d))#: kxd, i.e., each row contains an individual class mu.\n",
        "    self.sigma= np.zeros((k,d,d))#: kxdxd, i.e., each row contains an individual class sigma.\n",
        "    self.phi= np.zeros(d)# d-dimension\n",
        "\n",
        "    ## START THE LEARNING: estimate mu, phi and sigma.\n",
        "\n",
        "    for i in range(k):\n",
        "      self.mu[i] = np.mean(x[y == i], axis = 0)\n",
        "      self.phi[i] = (1/m)*np.sum(y[y == i])\n",
        "      self.sigma[i] = covariance(x[y == i], self.mu[i]) \n",
        "\n",
        "\n",
        "  def predict_proba(self,x):\n",
        "    '''\n",
        "      Inputs: x(shape:m,d)\n",
        "      Output: matrix of probability(shape:m,k)\n",
        "    '''\n",
        "    # input dim\n",
        "    d= x.shape[1] \n",
        "    # Number of classes we have in our case it's k = 2\n",
        "    k_class= self.mu.shape[0] \n",
        "    # we define a matrix that will contain our probabilities\n",
        "    prob = np.zeros((x.shape[0],k_class))\n",
        "    # Number of examples.\n",
        "    m = x.shape[0]\n",
        "    det = []\n",
        "    inv_sigma = []\n",
        " \n",
        "    for i in range(k_class):\n",
        "      # we compute the determinant of each class\n",
        "      det_ = np.linalg.det(self.sigma[i])\n",
        "      # we compute the inverse of the covariance matrix for each class\n",
        "      inv_sigma_ = np.linalg.inv(self.sigma[i])\n",
        "      det.append(det_)\n",
        "      inv_sigma.append(inv_sigma_)\n",
        "      const = 1/np.sqrt((2*np.pi)**d*det[i])\n",
        "      for j in range(m):\n",
        "        prob[j,i] = const*np.exp(-0.5*(x[j]-self.mu[i]).T@inv_sigma[i]@(x[j] - self.mu[i]))\n",
        "    return prob\n",
        "\n",
        "  def predict(self,x):\n",
        "    prob = self.predict_proba(x)\n",
        "    y_pred = np.argmax(prob, axis = 1)\n",
        "    return y_pred\n",
        "\n",
        "  \n",
        "  def accuracy(self, y, ypreds):\n",
        "    acc = (np.mean(y == ypreds))*100\n",
        "    return acc"
      ]
    },
    {
      "cell_type": "code",
      "execution_count": 283,
      "metadata": {},
      "outputs": [],
      "source": [
        "model= GDA()\n",
        "model.fit(X_train,y_train)"
      ]
    },
    {
      "cell_type": "code",
      "execution_count": 284,
      "metadata": {},
      "outputs": [
        {
          "data": {
            "text/plain": [
              "(200, 2)"
            ]
          },
          "execution_count": 284,
          "metadata": {},
          "output_type": "execute_result"
        }
      ],
      "source": [
        "yproba= model.predict_proba(X_test)\n",
        "yproba.shape"
      ]
    },
    {
      "cell_type": "code",
      "execution_count": 285,
      "metadata": {},
      "outputs": [
        {
          "data": {
            "text/plain": [
              "array([0, 1, 1, 1, 0, 0, 1, 1, 0, 0, 1, 1, 1, 1, 1, 0, 1, 0, 0, 0, 1, 1,\n",
              "       1, 0, 1, 1, 0, 0, 1, 0, 1, 0, 0, 0, 0, 1, 1, 0, 0, 0, 0, 0, 0, 1,\n",
              "       0, 0, 0, 0, 0, 0, 1, 0, 1, 1, 1, 1, 0, 1, 0, 0, 1, 1, 1, 0, 1, 1,\n",
              "       1, 1, 1, 1, 0, 1, 0, 1, 1, 1, 1, 1, 1, 1, 0, 0, 0, 0, 1, 1, 0, 1,\n",
              "       1, 1, 1, 1, 1, 0, 1, 0, 0, 0, 1, 1, 1, 1, 1, 1, 1, 0, 1, 1, 0, 0,\n",
              "       0, 0, 1, 0, 0, 0, 0, 0, 1, 1, 1, 0, 1, 0, 0, 1, 1, 1, 1, 1, 0, 1,\n",
              "       1, 1, 0, 1, 0, 1, 1, 1, 0, 0, 0, 0, 0, 1, 1, 0, 1, 0, 0, 1, 1, 0,\n",
              "       0, 0, 0, 1, 0, 0, 0, 0, 0, 0, 0, 0, 1, 0, 1, 0, 1, 1, 0, 0, 0, 0,\n",
              "       0, 1, 0, 0, 0, 1, 1, 1, 1, 1, 1, 0, 1, 0, 1, 1, 1, 1, 0, 0, 0, 1,\n",
              "       0, 0])"
            ]
          },
          "execution_count": 285,
          "metadata": {},
          "output_type": "execute_result"
        }
      ],
      "source": [
        "y1 = model.predict(X_test)\n",
        "y1"
      ]
    },
    {
      "cell_type": "code",
      "execution_count": 286,
      "metadata": {},
      "outputs": [
        {
          "data": {
            "text/plain": [
              "98.0"
            ]
          },
          "execution_count": 286,
          "metadata": {},
          "output_type": "execute_result"
        }
      ],
      "source": [
        "model.accuracy(y1,y_test)"
      ]
    }
  ],
  "metadata": {
    "colab": {
      "provenance": []
    },
    "kernelspec": {
      "display_name": "Python 3 (ipykernel)",
      "language": "python",
      "name": "python3"
    },
    "language_info": {
      "codemirror_mode": {
        "name": "ipython",
        "version": 3
      },
      "file_extension": ".py",
      "mimetype": "text/x-python",
      "name": "python",
      "nbconvert_exporter": "python",
      "pygments_lexer": "ipython3",
      "version": "3.9.13"
    }
  },
  "nbformat": 4,
  "nbformat_minor": 0
}
